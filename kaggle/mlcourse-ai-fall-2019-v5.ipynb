{
 "cells": [
  {
   "cell_type": "code",
   "execution_count": 1,
   "metadata": {},
   "outputs": [],
   "source": [
    "import warnings\n",
    "import numpy as np\n",
    "import pandas as pd\n",
    "import seaborn as sns\n",
    "from pathlib import Path\n",
    "from sklearn.model_selection import train_test_split\n",
    "from sklearn.metrics import roc_auc_score\n",
    "from catboost import CatBoostClassifier"
   ]
  },
  {
   "cell_type": "code",
   "execution_count": 3,
   "metadata": {},
   "outputs": [],
   "source": [
    "PATH_TO_DATA = Path('.')\n",
    "train_df = pd.read_csv(PATH_TO_DATA / 'flight_delays_train.csv')\n",
    "test_df = pd.read_csv(PATH_TO_DATA / 'flight_delays_test.csv')"
   ]
  },
  {
   "cell_type": "code",
   "execution_count": 4,
   "metadata": {},
   "outputs": [
    {
     "data": {
      "text/html": [
       "<div>\n",
       "<style scoped>\n",
       "    .dataframe tbody tr th:only-of-type {\n",
       "        vertical-align: middle;\n",
       "    }\n",
       "\n",
       "    .dataframe tbody tr th {\n",
       "        vertical-align: top;\n",
       "    }\n",
       "\n",
       "    .dataframe thead th {\n",
       "        text-align: right;\n",
       "    }\n",
       "</style>\n",
       "<table border=\"1\" class=\"dataframe\">\n",
       "  <thead>\n",
       "    <tr style=\"text-align: right;\">\n",
       "      <th></th>\n",
       "      <th>Month</th>\n",
       "      <th>DayofMonth</th>\n",
       "      <th>DayOfWeek</th>\n",
       "      <th>DepTime</th>\n",
       "      <th>UniqueCarrier</th>\n",
       "      <th>Origin</th>\n",
       "      <th>Dest</th>\n",
       "      <th>Distance</th>\n",
       "      <th>dep_delayed_15min</th>\n",
       "    </tr>\n",
       "  </thead>\n",
       "  <tbody>\n",
       "    <tr>\n",
       "      <td>0</td>\n",
       "      <td>c-8</td>\n",
       "      <td>c-21</td>\n",
       "      <td>c-7</td>\n",
       "      <td>1934</td>\n",
       "      <td>AA</td>\n",
       "      <td>ATL</td>\n",
       "      <td>DFW</td>\n",
       "      <td>732</td>\n",
       "      <td>N</td>\n",
       "    </tr>\n",
       "    <tr>\n",
       "      <td>1</td>\n",
       "      <td>c-4</td>\n",
       "      <td>c-20</td>\n",
       "      <td>c-3</td>\n",
       "      <td>1548</td>\n",
       "      <td>US</td>\n",
       "      <td>PIT</td>\n",
       "      <td>MCO</td>\n",
       "      <td>834</td>\n",
       "      <td>N</td>\n",
       "    </tr>\n",
       "    <tr>\n",
       "      <td>2</td>\n",
       "      <td>c-9</td>\n",
       "      <td>c-2</td>\n",
       "      <td>c-5</td>\n",
       "      <td>1422</td>\n",
       "      <td>XE</td>\n",
       "      <td>RDU</td>\n",
       "      <td>CLE</td>\n",
       "      <td>416</td>\n",
       "      <td>N</td>\n",
       "    </tr>\n",
       "    <tr>\n",
       "      <td>3</td>\n",
       "      <td>c-11</td>\n",
       "      <td>c-25</td>\n",
       "      <td>c-6</td>\n",
       "      <td>1015</td>\n",
       "      <td>OO</td>\n",
       "      <td>DEN</td>\n",
       "      <td>MEM</td>\n",
       "      <td>872</td>\n",
       "      <td>N</td>\n",
       "    </tr>\n",
       "    <tr>\n",
       "      <td>4</td>\n",
       "      <td>c-10</td>\n",
       "      <td>c-7</td>\n",
       "      <td>c-6</td>\n",
       "      <td>1828</td>\n",
       "      <td>WN</td>\n",
       "      <td>MDW</td>\n",
       "      <td>OMA</td>\n",
       "      <td>423</td>\n",
       "      <td>Y</td>\n",
       "    </tr>\n",
       "  </tbody>\n",
       "</table>\n",
       "</div>"
      ],
      "text/plain": [
       "  Month DayofMonth DayOfWeek  DepTime UniqueCarrier Origin Dest  Distance  \\\n",
       "0   c-8       c-21       c-7     1934            AA    ATL  DFW       732   \n",
       "1   c-4       c-20       c-3     1548            US    PIT  MCO       834   \n",
       "2   c-9        c-2       c-5     1422            XE    RDU  CLE       416   \n",
       "3  c-11       c-25       c-6     1015            OO    DEN  MEM       872   \n",
       "4  c-10        c-7       c-6     1828            WN    MDW  OMA       423   \n",
       "\n",
       "  dep_delayed_15min  \n",
       "0                 N  \n",
       "1                 N  \n",
       "2                 N  \n",
       "3                 N  \n",
       "4                 Y  "
      ]
     },
     "execution_count": 4,
     "metadata": {},
     "output_type": "execute_result"
    }
   ],
   "source": [
    "train_df.head()"
   ]
  },
  {
   "cell_type": "code",
   "execution_count": 5,
   "metadata": {},
   "outputs": [
    {
     "data": {
      "text/html": [
       "<div>\n",
       "<style scoped>\n",
       "    .dataframe tbody tr th:only-of-type {\n",
       "        vertical-align: middle;\n",
       "    }\n",
       "\n",
       "    .dataframe tbody tr th {\n",
       "        vertical-align: top;\n",
       "    }\n",
       "\n",
       "    .dataframe thead th {\n",
       "        text-align: right;\n",
       "    }\n",
       "</style>\n",
       "<table border=\"1\" class=\"dataframe\">\n",
       "  <thead>\n",
       "    <tr style=\"text-align: right;\">\n",
       "      <th></th>\n",
       "      <th>Month</th>\n",
       "      <th>DayofMonth</th>\n",
       "      <th>DayOfWeek</th>\n",
       "      <th>DepTime</th>\n",
       "      <th>UniqueCarrier</th>\n",
       "      <th>Origin</th>\n",
       "      <th>Dest</th>\n",
       "      <th>Distance</th>\n",
       "    </tr>\n",
       "  </thead>\n",
       "  <tbody>\n",
       "    <tr>\n",
       "      <td>0</td>\n",
       "      <td>c-7</td>\n",
       "      <td>c-25</td>\n",
       "      <td>c-3</td>\n",
       "      <td>615</td>\n",
       "      <td>YV</td>\n",
       "      <td>MRY</td>\n",
       "      <td>PHX</td>\n",
       "      <td>598</td>\n",
       "    </tr>\n",
       "    <tr>\n",
       "      <td>1</td>\n",
       "      <td>c-4</td>\n",
       "      <td>c-17</td>\n",
       "      <td>c-2</td>\n",
       "      <td>739</td>\n",
       "      <td>WN</td>\n",
       "      <td>LAS</td>\n",
       "      <td>HOU</td>\n",
       "      <td>1235</td>\n",
       "    </tr>\n",
       "    <tr>\n",
       "      <td>2</td>\n",
       "      <td>c-12</td>\n",
       "      <td>c-2</td>\n",
       "      <td>c-7</td>\n",
       "      <td>651</td>\n",
       "      <td>MQ</td>\n",
       "      <td>GSP</td>\n",
       "      <td>ORD</td>\n",
       "      <td>577</td>\n",
       "    </tr>\n",
       "    <tr>\n",
       "      <td>3</td>\n",
       "      <td>c-3</td>\n",
       "      <td>c-25</td>\n",
       "      <td>c-7</td>\n",
       "      <td>1614</td>\n",
       "      <td>WN</td>\n",
       "      <td>BWI</td>\n",
       "      <td>MHT</td>\n",
       "      <td>377</td>\n",
       "    </tr>\n",
       "    <tr>\n",
       "      <td>4</td>\n",
       "      <td>c-6</td>\n",
       "      <td>c-6</td>\n",
       "      <td>c-3</td>\n",
       "      <td>1505</td>\n",
       "      <td>UA</td>\n",
       "      <td>ORD</td>\n",
       "      <td>STL</td>\n",
       "      <td>258</td>\n",
       "    </tr>\n",
       "  </tbody>\n",
       "</table>\n",
       "</div>"
      ],
      "text/plain": [
       "  Month DayofMonth DayOfWeek  DepTime UniqueCarrier Origin Dest  Distance\n",
       "0   c-7       c-25       c-3      615            YV    MRY  PHX       598\n",
       "1   c-4       c-17       c-2      739            WN    LAS  HOU      1235\n",
       "2  c-12        c-2       c-7      651            MQ    GSP  ORD       577\n",
       "3   c-3       c-25       c-7     1614            WN    BWI  MHT       377\n",
       "4   c-6        c-6       c-3     1505            UA    ORD  STL       258"
      ]
     },
     "execution_count": 5,
     "metadata": {},
     "output_type": "execute_result"
    }
   ],
   "source": [
    "test_df.head()"
   ]
  },
  {
   "cell_type": "markdown",
   "metadata": {},
   "source": [
    "%%time\n",
    "train_df['Month'] = train_df['Month'].apply(lambda x: x[2::])\n",
    "train_df['DayofMonth'] = train_df['DayofMonth'].apply(lambda x: x[2::])\n",
    "train_df['DayOfWeek'] = train_df['DayOfWeek'].apply(lambda x: x[2::])\n",
    "train_df['dep_delayed_15min'] = train_df['dep_delayed_15min'].map({'N':0, 'Y':1})\n",
    "train_df['Month'] = train_df['Month'].astype('int64')\n",
    "train_df['DayofMonth'] = train_df['DayofMonth'].astype('int64')\n",
    "train_df['DayOfWeek'] = train_df['DayOfWeek'].astype('int64')\n",
    "# **********************************************************************\n",
    "test_df['Month'] = test_df['Month'].apply(lambda x: x[2::])\n",
    "test_df['DayofMonth'] = test_df['DayofMonth'].apply(lambda x: x[2::])\n",
    "test_df['DayOfWeek'] = test_df['DayOfWeek'].apply(lambda x: x[2::])\n",
    "train_df['Month'] = test_df['Month'].astype('int64')\n",
    "train_df['DayofMonth'] = test_df['DayofMonth'].astype('int64')\n",
    "train_df['DayOfWeek'] = test_df['DayOfWeek'].astype('int64')"
   ]
  },
  {
   "cell_type": "markdown",
   "metadata": {},
   "source": [
    "%%time\n",
    "allCarrier = pd.DataFrame(train_df['UniqueCarrier'].value_counts())\n",
    "# allCarrier\n",
    "delayCarrier = train_df.groupby(['UniqueCarrier'])['dep_delayed_15min'].sum()\n",
    "# delayCarrier\n",
    "\n",
    "carriers = allCarrier\n",
    "carriers['dep_delayed_15min'] = delayCarrier\n",
    "carriers['percent'] = carriers['dep_delayed_15min'] / carriers['UniqueCarrier']\n",
    "carriers = carriers.sort_values('percent')\n",
    "carriers.reset_index(inplace=True)\n",
    "del carriers['UniqueCarrier']\n",
    "del carriers['dep_delayed_15min']\n",
    "medianCompany = carriers['percent'].median()\n",
    "# Рейтинг \"опоздунов\"\n",
    "carriers"
   ]
  },
  {
   "cell_type": "markdown",
   "metadata": {},
   "source": [
    "%%time\n",
    "train_df['delCompPers'] = train_df['UniqueCarrier'].apply(lambda x: carriers[carriers['index'] == x]['percent'].values[0])\n",
    "test_df['delCompPers'] = test_df['UniqueCarrier'].apply(lambda x: carriers[carriers['index'] == x]['percent'].values[0] if x in carriers['index'].values else medianCompany)\n",
    "del train_df['UniqueCarrier']\n",
    "del test_df['UniqueCarrier']"
   ]
  },
  {
   "cell_type": "code",
   "execution_count": null,
   "metadata": {},
   "outputs": [],
   "source": []
  },
  {
   "cell_type": "code",
   "execution_count": null,
   "metadata": {},
   "outputs": [],
   "source": []
  },
  {
   "cell_type": "code",
   "execution_count": 6,
   "metadata": {},
   "outputs": [],
   "source": [
    "train_df['flight'] = train_df['Origin'] + '-->' + train_df['Dest']\n",
    "test_df['flight'] = test_df['Origin'] + '-->' + test_df['Dest']"
   ]
  },
  {
   "cell_type": "code",
   "execution_count": 7,
   "metadata": {},
   "outputs": [
    {
     "data": {
      "text/plain": [
       "array([0, 1, 2, 4, 5, 6, 8])"
      ]
     },
     "execution_count": 7,
     "metadata": {},
     "output_type": "execute_result"
    }
   ],
   "source": [
    "categ_feat_idx = np.where(train_df.drop('dep_delayed_15min', axis=1).dtypes == 'object')[0]\n",
    "categ_feat_idx"
   ]
  },
  {
   "cell_type": "markdown",
   "metadata": {},
   "source": [
    "**Allocate a hold-out set (a.k.a. a validation set) to validate the model**"
   ]
  },
  {
   "cell_type": "code",
   "execution_count": 8,
   "metadata": {},
   "outputs": [],
   "source": [
    "X_train = train_df.drop('dep_delayed_15min', axis=1).values\n",
    "y_train = train_df['dep_delayed_15min'].map({'Y': 1, 'N': 0}).values\n",
    "X_test = test_df.values"
   ]
  },
  {
   "cell_type": "code",
   "execution_count": 9,
   "metadata": {},
   "outputs": [],
   "source": [
    "X_train_part, X_valid, y_train_part, y_valid = train_test_split(X_train, y_train, \n",
    "                                                                test_size=0.3, \n",
    "                                                                random_state=17)"
   ]
  },
  {
   "cell_type": "markdown",
   "metadata": {},
   "source": [
    "**Train Catboost with default arguments, passing only the indexes of categorical features.**"
   ]
  },
  {
   "cell_type": "code",
   "execution_count": 10,
   "metadata": {},
   "outputs": [
    {
     "name": "stdout",
     "output_type": "stream",
     "text": [
      "CPU times: user 12min 19s, sys: 56.8 s, total: 13min 16s\n",
      "Wall time: 8min 12s\n"
     ]
    },
    {
     "data": {
      "text/plain": [
       "0.7561263809748852"
      ]
     },
     "execution_count": 10,
     "metadata": {},
     "output_type": "execute_result"
    }
   ],
   "source": [
    "%%time\n",
    "ctb = CatBoostClassifier(random_seed=17, \n",
    "                         iterations=3000, \n",
    "                         eval_metric='AUC', \n",
    "                         depth=4, \n",
    "                         subsample=0.9607,\n",
    "#                          learning_rate=1,\n",
    "#                          l2_leaf_reg=3,\n",
    "#                          random_strength=1,\n",
    "#                          min_data_in_leaf=1,\n",
    "                         loss_function='CrossEntropy',\n",
    "                         bootstrap_type='Bernoulli')\n",
    "#     RMSE\n",
    "#     Logloss\n",
    "#     MAE\n",
    "#     CrossEntropy\n",
    "#     Quantile\n",
    "#     LogLinQuantile\n",
    "#     Lq\n",
    "#     MultiClass\n",
    "#     MultiClassOneVsAll\n",
    "#     MAPE\n",
    "#     Poisson\n",
    "#     PairLogit\n",
    "#     PairLogitPairwise\n",
    "#     QueryRMSE\n",
    "#     QuerySoftMax\n",
    "#     YetiRank\n",
    "#     YetiRankPairwise\n",
    "\n",
    "ctb.fit(X_train_part, y_train_part, cat_features=categ_feat_idx, silent=True)\n",
    "ctb_valid_pred = ctb.predict_proba(X_valid)[:, 1]\n",
    "roc_auc_score(y_valid, ctb_valid_pred)"
   ]
  },
  {
   "cell_type": "code",
   "execution_count": null,
   "metadata": {},
   "outputs": [],
   "source": [
    "# 0.7566888519708084\n",
    "# 0.7566612438072499\n",
    "# 0.7564531235180606\n",
    "# 0.7564261899628076\n",
    "# 0.7552956262350818\n",
    "# 0.7566211517631125\n",
    "# 0.7558435967793620\n",
    "# 0.7552491000235568\n",
    "# 0.7550907556719235\n",
    "# 0.7532279445247103\n",
    "# 0.7584961929060583"
   ]
  },
  {
   "cell_type": "markdown",
   "metadata": {},
   "source": [
    "**Train on the whole train set, make prediction on the test set. We got ~0.734 in the competition - \"Catboost starter\" baseline**"
   ]
  },
  {
   "cell_type": "code",
   "execution_count": 14,
   "metadata": {},
   "outputs": [
    {
     "name": "stdout",
     "output_type": "stream",
     "text": [
      "CPU times: user 17min 1s, sys: 1min 4s, total: 18min 6s\n",
      "Wall time: 10min 18s\n"
     ]
    },
    {
     "data": {
      "text/plain": [
       "<catboost.core.CatBoostClassifier at 0x7f924fdbe490>"
      ]
     },
     "execution_count": 14,
     "metadata": {},
     "output_type": "execute_result"
    }
   ],
   "source": [
    "%%time\n",
    "ctb.fit(X_train, y_train, cat_features=categ_feat_idx, silent=True);"
   ]
  },
  {
   "cell_type": "code",
   "execution_count": 15,
   "metadata": {},
   "outputs": [],
   "source": [
    "ctb_test_pred = ctb.predict_proba(X_test)[:, 1]"
   ]
  },
  {
   "cell_type": "code",
   "execution_count": 16,
   "metadata": {},
   "outputs": [],
   "source": [
    "with warnings.catch_warnings():\n",
    "    warnings.simplefilter(\"ignore\")\n",
    "    \n",
    "    sample_sub = pd.read_csv(PATH_TO_DATA / 'sample_submission.csv', \n",
    "                             index_col='id')\n",
    "    sample_sub['dep_delayed_15min'] = ctb_test_pred\n",
    "    sample_sub.to_csv('ctb_pred.csv')"
   ]
  },
  {
   "cell_type": "code",
   "execution_count": 17,
   "metadata": {},
   "outputs": [
    {
     "name": "stdout",
     "output_type": "stream",
     "text": [
      "id,dep_delayed_15min\r\n",
      "0,0.02514519895045268\r\n",
      "1,0.060717735791977125\r\n",
      "2,0.04693371970792522\r\n",
      "3,0.294992778669616\r\n",
      "4,0.30360745932601835\r\n",
      "5,0.08436634322639619\r\n",
      "6,0.05638420222220752\r\n",
      "7,0.19938805982429214\r\n",
      "8,0.11740933491293162\r\n"
     ]
    }
   ],
   "source": [
    "!head ctb_pred.csv"
   ]
  },
  {
   "cell_type": "code",
   "execution_count": null,
   "metadata": {},
   "outputs": [],
   "source": []
  }
 ],
 "metadata": {
  "kernelspec": {
   "display_name": "Python 3",
   "language": "python",
   "name": "python3"
  },
  "language_info": {
   "codemirror_mode": {
    "name": "ipython",
    "version": 3
   },
   "file_extension": ".py",
   "mimetype": "text/x-python",
   "name": "python",
   "nbconvert_exporter": "python",
   "pygments_lexer": "ipython3",
   "version": "3.7.4"
  }
 },
 "nbformat": 4,
 "nbformat_minor": 1
}
